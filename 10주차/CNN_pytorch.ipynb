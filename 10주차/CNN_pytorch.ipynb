{
 "cells": [
  {
   "cell_type": "code",
   "execution_count": 11,
   "id": "bae4e83f-4fe8-498f-a0b9-e20e5d872a10",
   "metadata": {},
   "outputs": [],
   "source": [
    "import torch\n",
    "import torch.nn as nn\n",
    "import torch.optim as optim\n",
    "from torch.utils.data import Dataset, DataLoader, TensorDataset\n",
    "from sklearn import datasets, metrics\n",
    "from sklearn.model_selection import train_test_split\n",
    "from sklearn.preprocessing import StandardScaler\n",
    "import numpy as np\n",
    "from sklearn.preprocessing import LabelEncoder\n",
    "import pandas as pd\n",
    "from sklearn.metrics import precision_score, recall_score, f1_score, roc_auc_score, confusion_matrix, ConfusionMatrixDisplay\n",
    "import matplotlib.pyplot as plt\n",
    "from torchsummary import summary\n",
    "import torch.nn.functional as F"
   ]
  },
  {
   "cell_type": "code",
   "execution_count": 2,
   "id": "c784f148-b1a8-43f8-88c1-90b290d15ba8",
   "metadata": {},
   "outputs": [
    {
     "data": {
      "text/plain": [
       "<matplotlib.image.AxesImage at 0x2114c8b66f0>"
      ]
     },
     "execution_count": 2,
     "metadata": {},
     "output_type": "execute_result"
    },
    {
     "data": {
      "image/png": "[encoded data removed]",
      "text/plain": [
       "<Figure size 640x480 with 1 Axes>"
      ]
     },
     "metadata": {},
     "output_type": "display_data"
    }
   ],
   "source": [
    "digits = datasets.load_digits()\n",
    "plt.imshow(digits.images[0], cmap=plt.cm.gray_r, interpolation='nearest')"
   ]
  },
  {
   "cell_type": "code",
   "execution_count": 3,
   "id": "506dfb4c-4a6a-400d-a943-18c7541dc1ea",
   "metadata": {},
   "outputs": [],
   "source": [
    "n_samples = len(digits.images)\n",
    "data = digits.images.reshape((n_samples, 1, 8, 8)) "
   ]
  },
  {
   "cell_type": "code",
   "execution_count": 4,
   "id": "70b99312-a572-4cd1-a64c-78b6f39343af",
   "metadata": {},
   "outputs": [],
   "source": [
    "X_train, X_test, y_train, y_test = train_test_split(data, digits.target, test_size=0.2)"
   ]
  },
  {
   "cell_type": "code",
   "execution_count": 5,
   "id": "b414de96-eceb-47b3-83fb-717de2362f33",
   "metadata": {},
   "outputs": [],
   "source": [
    "X_train = torch.tensor(X_train, dtype=torch.float32)\n",
    "y_train = torch.tensor(y_train, dtype=torch.long) \n",
    "X_test = torch.tensor(X_test, dtype=torch.float32)\n",
    "y_test = torch.tensor(y_test, dtype=torch.long)"
   ]
  },
  {
   "cell_type": "code",
   "execution_count": 6,
   "id": "5bbe2658-f3f4-4246-b227-a1c9d3d309a9",
   "metadata": {},
   "outputs": [],
   "source": [
    "train_dataset = TensorDataset(X_train, y_train)\n",
    "train_dataloader = DataLoader(train_dataset, batch_size=32, shuffle=True)\n",
    "test_dataset = TensorDataset(X_test, y_test)\n",
    "test_dataloader = DataLoader(test_dataset, batch_size=32, shuffle=False)"
   ]
  },
  {
   "cell_type": "code",
   "execution_count": 7,
   "id": "ca2e08b9-b21c-44a9-9650-2b2df97749c7",
   "metadata": {},
   "outputs": [
    {
     "data": {
      "text/plain": [
       "(torch.Size([1437, 1, 8, 8]),\n",
       " torch.Size([360, 1, 8, 8]),\n",
       " torch.Size([1437]),\n",
       " torch.Size([360]))"
      ]
     },
     "execution_count": 7,
     "metadata": {},
     "output_type": "execute_result"
    }
   ],
   "source": [
    "X_train.shape, X_test.shape, y_train.shape, y_test.shape"
   ]
  },
  {
   "cell_type": "code",
   "execution_count": 8,
   "id": "e4109d54-e907-45bb-9786-15c4de0e39b8",
   "metadata": {},
   "outputs": [],
   "source": [
    "class CNNClassifier(nn.Module):\n",
    "    def __init__(self):\n",
    "        super(CNNClassifier, self).__init__()\n",
    "        self.conv1 = nn.Conv2d(1, 16, kernel_size=3, padding=1) \n",
    "        self.pool = nn.MaxPool2d(2, 2) \n",
    "        self.conv2 = nn.Conv2d(16, 32, kernel_size=3, padding=1) \n",
    "        self.fc1 = nn.Linear(32 * 2 * 2, 64)\n",
    "        self.dropout = nn.Dropout(0.3)\n",
    "        self.fc2 = nn.Linear(64, 10) \n",
    "\n",
    "    def forward(self, x):\n",
    "        x = self.pool(F.relu(self.conv1(x))) \n",
    "        x = self.pool(F.relu(self.conv2(x))) \n",
    "        x = x.view(-1, 32 * 2 * 2) \n",
    "        x = F.relu(self.fc1(x))\n",
    "        x = self.dropout(x)\n",
    "        x = self.fc2(x)\n",
    "        return x"
   ]
  },
  {
   "cell_type": "code",
   "execution_count": 9,
   "id": "735c6a4d-6a70-4a6a-8e15-fe46af5f3eb9",
   "metadata": {},
   "outputs": [],
   "source": [
    "model = CNNClassifier()\n",
    "criterion = nn.CrossEntropyLoss()\n",
    "optimizer = optim.Adam(model.parameters(), lr=0.001)"
   ]
  },
  {
   "cell_type": "code",
   "execution_count": 12,
   "id": "de933c49-b446-46bd-a8da-7bbfcef9d89d",
   "metadata": {},
   "outputs": [
    {
     "name": "stdout",
     "output_type": "stream",
     "text": [
      "Epoch 1/30, Loss: 1.9092, Accuracy: 76.11%\n",
      "Epoch 2/30, Loss: 0.9393, Accuracy: 92.22%\n",
      "Epoch 3/30, Loss: 0.4979, Accuracy: 95.00%\n",
      "Epoch 4/30, Loss: 0.3318, Accuracy: 95.28%\n",
      "Epoch 5/30, Loss: 0.2476, Accuracy: 97.50%\n",
      "Epoch 6/30, Loss: 0.1950, Accuracy: 97.50%\n",
      "Epoch 7/30, Loss: 0.1547, Accuracy: 97.22%\n",
      "Epoch 8/30, Loss: 0.1298, Accuracy: 98.33%\n",
      "Epoch 9/30, Loss: 0.1172, Accuracy: 97.50%\n",
      "Epoch 10/30, Loss: 0.1131, Accuracy: 98.06%\n",
      "Epoch 11/30, Loss: 0.0674, Accuracy: 98.61%\n",
      "Epoch 12/30, Loss: 0.0821, Accuracy: 97.22%\n",
      "Epoch 13/30, Loss: 0.0647, Accuracy: 97.22%\n",
      "Epoch 14/30, Loss: 0.0790, Accuracy: 97.78%\n",
      "Epoch 15/30, Loss: 0.0458, Accuracy: 98.33%\n",
      "Epoch 16/30, Loss: 0.0483, Accuracy: 97.50%\n",
      "Epoch 17/30, Loss: 0.0523, Accuracy: 98.06%\n",
      "Epoch 18/30, Loss: 0.0565, Accuracy: 98.06%\n",
      "Epoch 19/30, Loss: 0.0316, Accuracy: 97.50%\n",
      "Epoch 20/30, Loss: 0.0436, Accuracy: 98.33%\n",
      "Epoch 21/30, Loss: 0.0317, Accuracy: 98.89%\n",
      "Epoch 22/30, Loss: 0.0252, Accuracy: 98.33%\n",
      "Epoch 23/30, Loss: 0.0296, Accuracy: 99.17%\n",
      "Epoch 24/30, Loss: 0.0212, Accuracy: 98.89%\n",
      "Epoch 25/30, Loss: 0.0182, Accuracy: 98.33%\n",
      "Epoch 26/30, Loss: 0.0247, Accuracy: 98.06%\n",
      "Epoch 27/30, Loss: 0.0286, Accuracy: 98.61%\n",
      "Epoch 28/30, Loss: 0.0185, Accuracy: 98.33%\n",
      "Epoch 29/30, Loss: 0.0206, Accuracy: 98.06%\n",
      "Epoch 30/30, Loss: 0.0233, Accuracy: 98.06%\n",
      "Training complete.\n"
     ]
    }
   ],
   "source": [
    "train_losses = []\n",
    "test_accuracies = []\n",
    "num_epochs = 30\n",
    "\n",
    "for epoch in range(num_epochs):\n",
    "    model.train()\n",
    "    running_loss = 0.0\n",
    "    for inputs, labels in train_dataloader:\n",
    "        optimizer.zero_grad() # gradient 초기화\n",
    "        outputs = model(inputs)\n",
    "        loss = criterion(outputs, labels)\n",
    "        loss.backward() #gradient 계산\n",
    "        optimizer.step() #파라미터 업데이트\n",
    "        running_loss += loss.item()\n",
    "\n",
    "    train_losses.append(running_loss / len(train_dataloader))\n",
    "\n",
    "    model.eval()\n",
    "    correct = 0\n",
    "    total = 0\n",
    "    with torch.no_grad():\n",
    "        for inputs, labels in test_dataloader:\n",
    "            outputs = model(inputs)\n",
    "            predicted = torch.argmax(outputs, dim=1)\n",
    "            total += labels.size(0)\n",
    "            correct += (predicted == labels).sum().item()\n",
    "\n",
    "    accuracy = 100 * correct / total\n",
    "    test_accuracies.append(accuracy)\n",
    "\n",
    "    print(f\"Epoch {epoch + 1}/{num_epochs}, Loss: {train_losses[-1]:.4f}, Accuracy: {accuracy:.2f}%\")\n",
    "\n",
    "print(\"Training complete.\")"
   ]
  },
  {
   "cell_type": "code",
   "execution_count": 15,
   "id": "ec1cb87e-86ea-4572-877b-17cb061e113f",
   "metadata": {},
   "outputs": [
    {
     "name": "stdout",
     "output_type": "stream",
     "text": [
      "Confusion Matrix:\n",
      "[[29  0  0  0  2  0  0  0  0  0]\n",
      " [ 0 40  0  0  0  0  0  0  0  0]\n",
      " [ 0  0 32  0  0  0  0  0  0  0]\n",
      " [ 0  0  0 36  0  0  0  0  0  0]\n",
      " [ 0  0  0  0 32  0  0  0  0  0]\n",
      " [ 0  0  0  0  0 43  0  0  0  0]\n",
      " [ 0  0  0  0  0  0 36  0  1  0]\n",
      " [ 0  0  0  0  0  0  0 42  0  0]\n",
      " [ 0  1  0  1  0  0  0  0 22  0]\n",
      " [ 0  1  0  1  0  0  0  0  0 41]]\n",
      "F1 Score: 0.98\n",
      "Precision: 0.98\n",
      "Recall: 0.98\n"
     ]
    }
   ],
   "source": [
    "# 모델 평가\n",
    "model.eval()\n",
    "all_labels = []\n",
    "all_predictions = []\n",
    "with torch.no_grad():\n",
    "    for inputs, labels in test_dataloader:\n",
    "        outputs = model(inputs) \n",
    "\n",
    "        _, predicted_indices = torch.max(outputs, 1) \n",
    "\n",
    "        all_labels.extend(labels.cpu().numpy())\n",
    "        all_predictions.extend(predicted_indices.cpu().numpy()) \n",
    "\n",
    "all_labels = np.array(all_labels)\n",
    "all_predictions = np.array(all_predictions) \n",
    "\n",
    "conf_matrix = confusion_matrix(all_labels, all_predictions)\n",
    "\n",
    "\n",
    "f1 = f1_score(all_labels, all_predictions, average='weighted')\n",
    "precision = precision_score(all_labels, all_predictions, average='weighted')\n",
    "recall = recall_score(all_labels, all_predictions, average='weighted')\n",
    "\n",
    "\n",
    "print(f'Confusion Matrix:\\n{conf_matrix}')\n",
    "print(f'F1 Score: {f1:.2f}')\n",
    "print(f'Precision: {precision:.2f}')\n",
    "print(f'Recall: {recall:.2f}')"
   ]
  },
  {
   "cell_type": "code",
   "execution_count": 16,
   "id": "8a9899c3-5034-4c47-973d-192766a8a493",
   "metadata": {},
   "outputs": [
    {
     "data": {
      "image/png": "[encoded data removed]",
      "text/plain": [
       "<Figure size 640x480 with 2 Axes>"
      ]
     },
     "metadata": {},
     "output_type": "display_data"
    }
   ],
   "source": [
    "from sklearn.metrics import ConfusionMatrixDisplay\n",
    "\n",
    "ConfusionMatrixDisplay(conf_matrix).plot(cmap='Blues')\n",
    "plt.title('Confusion Matrix')\n",
    "plt.show()"
   ]
  },
  {
   "cell_type": "code",
   "execution_count": null,
   "id": "5dbbef03-523f-42a5-9737-6575d9478f4b",
   "metadata": {},
   "outputs": [],
   "source": []
  }
 ],
 "metadata": {
  "kernelspec": {
   "display_name": "Python 3 (ipykernel)",
   "language": "python",
   "name": "python3"
  },
  "language_info": {
   "codemirror_mode": {
    "name": "ipython",
    "version": 3
   },
   "file_extension": ".py",
   "mimetype": "text/x-python",
   "name": "python",
   "nbconvert_exporter": "python",
   "pygments_lexer": "ipython3",
   "version": "3.12.7"
  }
 },
 "nbformat": 4,
 "nbformat_minor": 5
}
