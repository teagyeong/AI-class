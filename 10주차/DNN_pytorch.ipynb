{
 "cells": [
  {
   "cell_type": "code",
   "execution_count": 53,
   "id": "32df0957-8b6f-4479-bd62-bb5bb04d7c4a",
   "metadata": {},
   "outputs": [],
   "source": [
    "import torch\n",
    "import torch.nn as nn\n",
    "import torch.optim as optim\n",
    "from torch.utils.data import Dataset, DataLoader, TensorDataset\n",
    "from sklearn import datasets, metrics\n",
    "from sklearn.model_selection import train_test_split\n",
    "from sklearn.preprocessing import StandardScaler\n",
    "import numpy as np\n",
    "from sklearn.preprocessing import LabelEncoder\n",
    "import pandas as pd\n",
    "from sklearn.metrics import precision_score, recall_score, f1_score, roc_auc_score, confusion_matrix, ConfusionMatrixDisplay\n",
    "import matplotlib.pyplot as plt\n",
    "from torchsummary import summary"
   ]
  },
  {
   "cell_type": "markdown",
   "id": "0b8f38e8-9de1-4998-bfa9-62a0d33474c4",
   "metadata": {},
   "source": [
    "# 데이터 불러오기"
   ]
  },
  {
   "cell_type": "code",
   "execution_count": 31,
   "id": "c2a22efb-c84f-43ce-9f29-608f76fa11e1",
   "metadata": {},
   "outputs": [
    {
     "data": {
      "text/plain": [
       "<matplotlib.image.AxesImage at 0x16c9da899d0>"
      ]
     },
     "execution_count": 31,
     "metadata": {},
     "output_type": "execute_result"
    },
    {
     "data": {
      "image/png": "[encoded data removed]",
      "text/plain": [
       "<Figure size 640x480 with 1 Axes>"
      ]
     },
     "metadata": {},
     "output_type": "display_data"
    }
   ],
   "source": [
    "digits = datasets.load_digits()\n",
    "plt.imshow(digits.images[0], cmap=plt.cm.gray_r, interpolation='nearest')"
   ]
  },
  {
   "cell_type": "markdown",
   "id": "e91f88f0-f933-4d98-8752-81f6f01d2f5c",
   "metadata": {},
   "source": [
    "# 데이터 평탄화"
   ]
  },
  {
   "cell_type": "code",
   "execution_count": 32,
   "id": "41785d0f-5e54-4174-b7fc-49516a83754b",
   "metadata": {},
   "outputs": [],
   "source": [
    "n_samples = len(digits.images)\n",
    "data = digits.images.reshape((n_samples, -1))"
   ]
  },
  {
   "cell_type": "code",
   "execution_count": 33,
   "id": "d0da050f-2cf7-4670-835d-ca92604a8b02",
   "metadata": {},
   "outputs": [],
   "source": [
    "scaler = StandardScaler()\n",
    "data = scaler.fit_transform(data)"
   ]
  },
  {
   "cell_type": "code",
   "execution_count": 34,
   "id": "73c96880-2f9e-4e99-aa2a-3a9d093a3d8d",
   "metadata": {},
   "outputs": [],
   "source": [
    "X_train, X_test, y_train, y_test = train_test_split(data, digits.target, test_size=0.2)"
   ]
  },
  {
   "cell_type": "markdown",
   "id": "348a0961-66ed-484b-a4a7-55394e0fb801",
   "metadata": {},
   "source": [
    "# 텐서 변환"
   ]
  },
  {
   "cell_type": "code",
   "execution_count": 44,
   "id": "82d67f31-fd91-486c-a197-9c28d2c147a4",
   "metadata": {},
   "outputs": [],
   "source": [
    "X_train = torch.tensor(X_train, dtype=torch.float32)\n",
    "y_train = torch.tensor(y_train, dtype=torch.long) \n",
    "X_test = torch.tensor(X_test, dtype=torch.float32)\n",
    "y_test = torch.tensor(y_test, dtype=torch.long)"
   ]
  },
  {
   "cell_type": "code",
   "execution_count": 45,
   "id": "bc3c1493-f564-4789-a7eb-92df06b169d4",
   "metadata": {},
   "outputs": [],
   "source": [
    "train_dataset = TensorDataset(X_train, y_train)\n",
    "train_dataloader = DataLoader(train_dataset, batch_size=32, shuffle=True)\n",
    "\n",
    "test_dataset = TensorDataset(X_test, y_test)\n",
    "test_dataloader = DataLoader(test_dataset, batch_size=32, shuffle=False)"
   ]
  },
  {
   "cell_type": "code",
   "execution_count": 46,
   "id": "ad299992-d091-4106-a30a-11dbe6bc6457",
   "metadata": {},
   "outputs": [
    {
     "data": {
      "text/plain": [
       "(torch.Size([1437, 64]),\n",
       " torch.Size([360, 64]),\n",
       " torch.Size([1437]),\n",
       " torch.Size([360]))"
      ]
     },
     "execution_count": 46,
     "metadata": {},
     "output_type": "execute_result"
    }
   ],
   "source": [
    "X_train.shape, X_test.shape, y_train.shape, y_test.shape"
   ]
  },
  {
   "cell_type": "markdown",
   "id": "f2c0537d-25d6-4c93-89f2-38e1184fbf4b",
   "metadata": {},
   "source": [
    "# 모델정의"
   ]
  },
  {
   "cell_type": "code",
   "execution_count": 47,
   "id": "eb72e69f-42df-4044-96fa-2e6078466192",
   "metadata": {},
   "outputs": [],
   "source": [
    "class dnn(nn.Module):\n",
    "    def __init__(self):\n",
    "        super(dnn, self).__init__()\n",
    "        self.fc1 = nn.Linear(64, 128)\n",
    "        self.fc2 = nn.Linear(128, 128)\n",
    "        self.fc3 = nn.Linear(128, 64)\n",
    "        self.fc4 = nn.Linear(64, 10)  \n",
    "\n",
    "    def forward(self, x):\n",
    "        x = torch.relu(self.fc1(x))\n",
    "        x = torch.relu(self.fc2(x))\n",
    "        x = torch.relu(self.fc3(x))\n",
    "        x = self.fc4(x)\n",
    "        return x\n",
    "\n",
    "model = dnn()"
   ]
  },
  {
   "cell_type": "code",
   "execution_count": 48,
   "id": "9feb183b-3d5f-4d26-b661-c48b5914c3a5",
   "metadata": {},
   "outputs": [],
   "source": [
    "criterion = nn.CrossEntropyLoss()\n",
    "optimizer = optim.Adam(model.parameters(), lr=0.001)"
   ]
  },
  {
   "cell_type": "markdown",
   "id": "929898b9-d516-4a6c-a635-f71637aebdcc",
   "metadata": {},
   "source": [
    "# 학습"
   ]
  },
  {
   "cell_type": "code",
   "execution_count": 49,
   "id": "2cc1b0f4-d5f6-4e5b-9ee2-6be64131886d",
   "metadata": {},
   "outputs": [
    {
     "name": "stdout",
     "output_type": "stream",
     "text": [
      "Epoch 1/30, Loss: 1.8288, Accuracy: 80.00%\n",
      "Epoch 2/30, Loss: 0.4492, Accuracy: 91.67%\n",
      "Epoch 3/30, Loss: 0.1626, Accuracy: 93.33%\n",
      "Epoch 4/30, Loss: 0.0894, Accuracy: 96.11%\n",
      "Epoch 5/30, Loss: 0.0596, Accuracy: 96.94%\n",
      "Epoch 6/30, Loss: 0.0359, Accuracy: 97.50%\n",
      "Epoch 7/30, Loss: 0.0250, Accuracy: 97.78%\n",
      "Epoch 8/30, Loss: 0.0171, Accuracy: 97.50%\n",
      "Epoch 9/30, Loss: 0.0121, Accuracy: 97.78%\n",
      "Epoch 10/30, Loss: 0.0086, Accuracy: 98.06%\n",
      "Epoch 11/30, Loss: 0.0059, Accuracy: 97.50%\n",
      "Epoch 12/30, Loss: 0.0042, Accuracy: 98.06%\n",
      "Epoch 13/30, Loss: 0.0035, Accuracy: 98.33%\n",
      "Epoch 14/30, Loss: 0.0028, Accuracy: 98.06%\n",
      "Epoch 15/30, Loss: 0.0022, Accuracy: 98.06%\n",
      "Epoch 16/30, Loss: 0.0019, Accuracy: 98.06%\n",
      "Epoch 17/30, Loss: 0.0016, Accuracy: 98.06%\n",
      "Epoch 18/30, Loss: 0.0014, Accuracy: 98.06%\n",
      "Epoch 19/30, Loss: 0.0012, Accuracy: 98.06%\n",
      "Epoch 20/30, Loss: 0.0011, Accuracy: 98.06%\n",
      "Epoch 21/30, Loss: 0.0010, Accuracy: 98.06%\n",
      "Epoch 22/30, Loss: 0.0009, Accuracy: 98.06%\n",
      "Epoch 23/30, Loss: 0.0008, Accuracy: 98.06%\n",
      "Epoch 24/30, Loss: 0.0007, Accuracy: 98.06%\n",
      "Epoch 25/30, Loss: 0.0006, Accuracy: 98.06%\n",
      "Epoch 26/30, Loss: 0.0006, Accuracy: 98.06%\n",
      "Epoch 27/30, Loss: 0.0005, Accuracy: 98.06%\n",
      "Epoch 28/30, Loss: 0.0005, Accuracy: 98.33%\n",
      "Epoch 29/30, Loss: 0.0004, Accuracy: 98.06%\n",
      "Epoch 30/30, Loss: 0.0004, Accuracy: 98.06%\n",
      "Training complete.\n"
     ]
    }
   ],
   "source": [
    "train_losses = []\n",
    "test_accuracies = []\n",
    "\n",
    "num_epochs = 30\n",
    "for epoch in range(num_epochs):\n",
    "    model.train()\n",
    "    running_loss = 0.0\n",
    "    for inputs, labels in train_dataloader:\n",
    "        optimizer.zero_grad()\n",
    "        outputs = model(inputs)\n",
    "        loss = criterion(outputs, labels)\n",
    "        loss.backward()\n",
    "        optimizer.step()\n",
    "        running_loss += loss.item()\n",
    "\n",
    "    train_losses.append(running_loss / len(train_dataloader))\n",
    "\n",
    "    model.eval()\n",
    "    correct = 0\n",
    "    total = 0\n",
    "    with torch.no_grad():\n",
    "        for inputs, labels in test_dataloader:\n",
    "            outputs = model(inputs)\n",
    "            probs = torch.sigmoid(outputs)\n",
    "            predicted = torch.argmax(outputs, dim=1)\n",
    "            total += labels.size(0)\n",
    "            correct += (predicted == labels).sum().item()\n",
    "\n",
    "    accuracy = 100 * correct / total\n",
    "    test_accuracies.append(accuracy)\n",
    "\n",
    "    print(f\"Epoch {epoch + 1}/{num_epochs}, Loss: {train_losses[-1]:.4f}, Accuracy: {accuracy:.2f}%\")\n",
    "\n",
    "print(\"Training complete.\")"
   ]
  },
  {
   "cell_type": "code",
   "execution_count": 56,
   "id": "c10a4515-0979-4042-8fcd-4e616e092059",
   "metadata": {},
   "outputs": [
    {
     "name": "stdout",
     "output_type": "stream",
     "text": [
      "Confusion Matrix:\n",
      "[[31  0  0  0  0  0  0  0  0  0]\n",
      " [ 0 33  0  0  0  0  0  0  0  0]\n",
      " [ 0  0 39  0  0  0  0  0  0  0]\n",
      " [ 0  0  0 38  0  1  0  0  0  0]\n",
      " [ 0  0  0  0 33  0  0  0  0  0]\n",
      " [ 0  0  0  0  0 35  1  0  1  0]\n",
      " [ 0  0  0  0  0  1 33  0  0  0]\n",
      " [ 0  0  0  0  0  0  0 49  0  0]\n",
      " [ 0  1  0  0  0  0  0  0 31  0]\n",
      " [ 0  0  0  1  0  1  0  0  0 31]]\n",
      "F1 Score: 0.98\n",
      "Precision: 0.98\n",
      "Recall: 0.98\n"
     ]
    }
   ],
   "source": [
    "model.eval()\n",
    "all_labels = []\n",
    "all_predictions = []\n",
    "with torch.no_grad():\n",
    "    for inputs, labels in test_dataloader:\n",
    "        outputs = model(inputs) \n",
    "        _, predicted_indices = torch.max(outputs, 1)\n",
    "\n",
    "        all_labels.extend(labels.cpu().numpy())\n",
    "        all_predictions.extend(predicted_indices.cpu().numpy()) \n",
    "\n",
    "\n",
    "all_labels = np.array(all_labels)\n",
    "all_predictions = np.array(all_predictions) \n",
    "\n",
    "conf_matrix = confusion_matrix(all_labels, all_predictions)\n",
    "\n",
    "f1 = f1_score(all_labels, all_predictions, average='macro')\n",
    "precision = precision_score(all_labels, all_predictions, average='macro')\n",
    "recall = recall_score(all_labels, all_predictions, average='macro')\n",
    "\n",
    "print(f'Confusion Matrix:\\n{conf_matrix}')\n",
    "print(f'F1 Score: {f1:.2f}')\n",
    "print(f'Precision: {precision:.2f}')\n",
    "print(f'Recall: {recall:.2f}')"
   ]
  },
  {
   "cell_type": "code",
   "execution_count": 57,
   "id": "029ace25-e9f9-4450-952f-6f7ad457eaed",
   "metadata": {},
   "outputs": [
    {
     "data": {
      "image/png": "[encoded data removed]",
      "text/plain": [
       "<Figure size 640x480 with 2 Axes>"
      ]
     },
     "metadata": {},
     "output_type": "display_data"
    }
   ],
   "source": [
    "from sklearn.metrics import ConfusionMatrixDisplay\n",
    "\n",
    "ConfusionMatrixDisplay(conf_matrix).plot(cmap='Blues')\n",
    "plt.title('Confusion Matrix')\n",
    "plt.show()"
   ]
  }
 ],
 "metadata": {
  "kernelspec": {
   "display_name": "Python 3 (ipykernel)",
   "language": "python",
   "name": "python3"
  },
  "language_info": {
   "codemirror_mode": {
    "name": "ipython",
    "version": 3
   },
   "file_extension": ".py",
   "mimetype": "text/x-python",
   "name": "python",
   "nbconvert_exporter": "python",
   "pygments_lexer": "ipython3",
   "version": "3.12.7"
  }
 },
 "nbformat": 4,
 "nbformat_minor": 5
}
