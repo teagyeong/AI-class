{
 "cells": [
  {
   "cell_type": "code",
   "execution_count": 1,
   "id": "29573de0-adeb-443a-ae87-c0ccd5b1dc57",
   "metadata": {},
   "outputs": [],
   "source": [
    "import pandas as pd\n",
    "import numpy as np\n",
    "from sklearn.model_selection import train_test_split\n",
    "from sklearn.preprocessing import StandardScaler\n",
    "from tensorflow.keras.utils import to_categorical\n",
    "\n",
    "import tensorflow as tf\n",
    "from tensorflow.keras.models import Sequential\n",
    "from tensorflow.keras.layers import Dense"
   ]
  },
  {
   "cell_type": "code",
   "execution_count": 2,
   "id": "107374a7-b701-4c22-aba3-dbba1cf252d7",
   "metadata": {},
   "outputs": [],
   "source": [
    "column_names = [\n",
    "    'area', 'perimeter', 'compactness', 'length_of_kernel',\n",
    "    'width_of_kernel', 'asymmetry_coefficient', 'length_of_kernel_groove',\n",
    "    'class'\n",
    "]"
   ]
  },
  {
   "cell_type": "code",
   "execution_count": 3,
   "id": "654378ce-e04e-4c7a-9cd8-1ca3ff55b907",
   "metadata": {},
   "outputs": [
    {
     "name": "stderr",
     "output_type": "stream",
     "text": [
      "C:\\Users\\ghom9\\AppData\\Local\\Temp\\ipykernel_19468\\1704746712.py:1: FutureWarning: The 'delim_whitespace' keyword in pd.read_csv is deprecated and will be removed in a future version. Use ``sep='\\s+'`` instead\n",
      "  data = pd.read_csv('C:/Users/ghom9/Downloads/seeds_dataset.txt', delim_whitespace=True, names=column_names)  # CSV 파일 경로\n"
     ]
    }
   ],
   "source": [
    "data = pd.read_csv('C:/Users/ghom9/Downloads/seeds_dataset.txt', delim_whitespace=True, names=column_names)  # CSV 파일 경로"
   ]
  },
  {
   "cell_type": "code",
   "execution_count": 4,
   "id": "1efecfab-9a55-4351-8f95-224d5a4129f7",
   "metadata": {},
   "outputs": [],
   "source": [
    "# 입력 (X), 출력 (y) 분리\n",
    "X = data.iloc[:, :-1].values\n",
    "y = data.iloc[:, -1].values - 1  # 클래스가 1, 2, 3으로 되어 있어서 0부터 시작하도록 조정"
   ]
  },
  {
   "cell_type": "code",
   "execution_count": 5,
   "id": "a6a409b7-1a01-427d-b0cb-28c24b5e6f20",
   "metadata": {},
   "outputs": [],
   "source": [
    "scaler = StandardScaler()\n",
    "X_scaled = scaler.fit_transform(X)"
   ]
  },
  {
   "cell_type": "code",
   "execution_count": 6,
   "id": "338daf26-c008-494d-a9f0-d7c1c553ef43",
   "metadata": {},
   "outputs": [],
   "source": [
    "# 원-핫 인코딩\n",
    "y_categorical = to_categorical(y)"
   ]
  },
  {
   "cell_type": "code",
   "execution_count": 7,
   "id": "609226f0-8020-4f55-bdc9-f629b8dead39",
   "metadata": {},
   "outputs": [],
   "source": [
    "# 학습/테스트 분리\n",
    "X_train, X_test, y_train, y_test = train_test_split(X_scaled, y_categorical, test_size=0.2, random_state=42)"
   ]
  },
  {
   "cell_type": "code",
   "execution_count": 8,
   "id": "c0b89853-3399-41f5-86f4-f66ac6f57270",
   "metadata": {},
   "outputs": [],
   "source": [
    "import tensorflow as tf\n",
    "from tensorflow.keras import Model\n",
    "from tensorflow.keras.layers import Dense\n",
    "\n",
    "class SeedsClassifier(Model):\n",
    "    def __init__(self):\n",
    "        super(SeedsClassifier, self).__init__()\n",
    "        self.dense1 = Dense(16, activation='relu')\n",
    "        self.dense2 = Dense(12, activation='relu')\n",
    "        self.output_layer = Dense(3, activation='softmax')  # 클래스 3개\n",
    "\n",
    "    def call(self, inputs, training=False):\n",
    "        x = self.dense1(inputs)\n",
    "        x = self.dense2(x)\n",
    "        return self.output_layer(x)\n"
   ]
  },
  {
   "cell_type": "code",
   "execution_count": 10,
   "id": "8696d9c5-d8e1-4ef4-b4cf-42538a36310c",
   "metadata": {
    "scrolled": true
   },
   "outputs": [
    {
     "name": "stdout",
     "output_type": "stream",
     "text": [
      "Epoch 1/50\n",
      "\u001b[1m17/17\u001b[0m \u001b[32m━━━━━━━━━━━━━━━━━━━━\u001b[0m\u001b[37m\u001b[0m \u001b[1m2s\u001b[0m 27ms/step - accuracy: 0.2054 - loss: 1.0428 - val_accuracy: 0.1471 - val_loss: 1.0230\n",
      "Epoch 2/50\n",
      "\u001b[1m17/17\u001b[0m \u001b[32m━━━━━━━━━━━━━━━━━━━━\u001b[0m\u001b[37m\u001b[0m \u001b[1m0s\u001b[0m 20ms/step - accuracy: 0.3251 - loss: 0.9592 - val_accuracy: 0.3824 - val_loss: 0.9345\n",
      "Epoch 3/50\n",
      "\u001b[1m17/17\u001b[0m \u001b[32m━━━━━━━━━━━━━━━━━━━━\u001b[0m\u001b[37m\u001b[0m \u001b[1m1s\u001b[0m 14ms/step - accuracy: 0.5626 - loss: 0.8824 - val_accuracy: 0.5588 - val_loss: 0.8735\n",
      "Epoch 4/50\n",
      "\u001b[1m17/17\u001b[0m \u001b[32m━━━━━━━━━━━━━━━━━━━━\u001b[0m\u001b[37m\u001b[0m \u001b[1m0s\u001b[0m 10ms/step - accuracy: 0.6846 - loss: 0.8354 - val_accuracy: 0.7647 - val_loss: 0.8180\n",
      "Epoch 5/50\n",
      "\u001b[1m17/17\u001b[0m \u001b[32m━━━━━━━━━━━━━━━━━━━━\u001b[0m\u001b[37m\u001b[0m \u001b[1m0s\u001b[0m 11ms/step - accuracy: 0.7560 - loss: 0.7608 - val_accuracy: 0.7941 - val_loss: 0.7679\n",
      "Epoch 6/50\n",
      "\u001b[1m17/17\u001b[0m \u001b[32m━━━━━━━━━━━━━━━━━━━━\u001b[0m\u001b[37m\u001b[0m \u001b[1m0s\u001b[0m 14ms/step - accuracy: 0.7970 - loss: 0.7382 - val_accuracy: 0.8529 - val_loss: 0.7168\n",
      "Epoch 7/50\n",
      "\u001b[1m17/17\u001b[0m \u001b[32m━━━━━━━━━━━━━━━━━━━━\u001b[0m\u001b[37m\u001b[0m \u001b[1m0s\u001b[0m 14ms/step - accuracy: 0.8609 - loss: 0.7046 - val_accuracy: 0.9118 - val_loss: 0.6743\n",
      "Epoch 8/50\n",
      "\u001b[1m17/17\u001b[0m \u001b[32m━━━━━━━━━━━━━━━━━━━━\u001b[0m\u001b[37m\u001b[0m \u001b[1m0s\u001b[0m 12ms/step - accuracy: 0.8673 - loss: 0.6631 - val_accuracy: 0.9118 - val_loss: 0.6465\n",
      "Epoch 9/50\n",
      "\u001b[1m17/17\u001b[0m \u001b[32m━━━━━━━━━━━━━━━━━━━━\u001b[0m\u001b[37m\u001b[0m \u001b[1m0s\u001b[0m 12ms/step - accuracy: 0.8727 - loss: 0.6287 - val_accuracy: 0.9118 - val_loss: 0.6156\n",
      "Epoch 10/50\n",
      "\u001b[1m17/17\u001b[0m \u001b[32m━━━━━━━━━━━━━━━━━━━━\u001b[0m\u001b[37m\u001b[0m \u001b[1m0s\u001b[0m 10ms/step - accuracy: 0.9162 - loss: 0.5520 - val_accuracy: 0.9412 - val_loss: 0.5928\n",
      "Epoch 11/50\n",
      "\u001b[1m17/17\u001b[0m \u001b[32m━━━━━━━━━━━━━━━━━━━━\u001b[0m\u001b[37m\u001b[0m \u001b[1m0s\u001b[0m 13ms/step - accuracy: 0.8606 - loss: 0.6119 - val_accuracy: 0.9412 - val_loss: 0.5754\n",
      "Epoch 12/50\n",
      "\u001b[1m17/17\u001b[0m \u001b[32m━━━━━━━━━━━━━━━━━━━━\u001b[0m\u001b[37m\u001b[0m \u001b[1m0s\u001b[0m 11ms/step - accuracy: 0.9019 - loss: 0.5739 - val_accuracy: 0.9412 - val_loss: 0.5553\n",
      "Epoch 13/50\n",
      "\u001b[1m17/17\u001b[0m \u001b[32m━━━━━━━━━━━━━━━━━━━━\u001b[0m\u001b[37m\u001b[0m \u001b[1m0s\u001b[0m 11ms/step - accuracy: 0.9066 - loss: 0.5064 - val_accuracy: 0.9412 - val_loss: 0.5383\n",
      "Epoch 14/50\n",
      "\u001b[1m17/17\u001b[0m \u001b[32m━━━━━━━━━━━━━━━━━━━━\u001b[0m\u001b[37m\u001b[0m \u001b[1m0s\u001b[0m 8ms/step - accuracy: 0.9271 - loss: 0.4777 - val_accuracy: 0.9412 - val_loss: 0.5245\n",
      "Epoch 15/50\n",
      "\u001b[1m17/17\u001b[0m \u001b[32m━━━━━━━━━━━━━━━━━━━━\u001b[0m\u001b[37m\u001b[0m \u001b[1m0s\u001b[0m 20ms/step - accuracy: 0.9567 - loss: 0.4980 - val_accuracy: 0.9412 - val_loss: 0.5119\n",
      "Epoch 16/50\n",
      "\u001b[1m17/17\u001b[0m \u001b[32m━━━━━━━━━━━━━━━━━━━━\u001b[0m\u001b[37m\u001b[0m \u001b[1m0s\u001b[0m 8ms/step - accuracy: 0.9358 - loss: 0.5137 - val_accuracy: 0.9412 - val_loss: 0.4940\n",
      "Epoch 17/50\n",
      "\u001b[1m17/17\u001b[0m \u001b[32m━━━━━━━━━━━━━━━━━━━━\u001b[0m\u001b[37m\u001b[0m \u001b[1m0s\u001b[0m 10ms/step - accuracy: 0.9102 - loss: 0.4944 - val_accuracy: 0.9412 - val_loss: 0.4793\n",
      "Epoch 18/50\n",
      "\u001b[1m17/17\u001b[0m \u001b[32m━━━━━━━━━━━━━━━━━━━━\u001b[0m\u001b[37m\u001b[0m \u001b[1m0s\u001b[0m 11ms/step - accuracy: 0.9523 - loss: 0.4612 - val_accuracy: 0.9412 - val_loss: 0.4627\n",
      "Epoch 19/50\n",
      "\u001b[1m17/17\u001b[0m \u001b[32m━━━━━━━━━━━━━━━━━━━━\u001b[0m\u001b[37m\u001b[0m \u001b[1m0s\u001b[0m 10ms/step - accuracy: 0.8992 - loss: 0.4897 - val_accuracy: 0.9412 - val_loss: 0.4381\n",
      "Epoch 20/50\n",
      "\u001b[1m17/17\u001b[0m \u001b[32m━━━━━━━━━━━━━━━━━━━━\u001b[0m\u001b[37m\u001b[0m \u001b[1m0s\u001b[0m 11ms/step - accuracy: 0.9376 - loss: 0.4196 - val_accuracy: 0.9412 - val_loss: 0.4106\n",
      "Epoch 21/50\n",
      "\u001b[1m17/17\u001b[0m \u001b[32m━━━━━━━━━━━━━━━━━━━━\u001b[0m\u001b[37m\u001b[0m \u001b[1m0s\u001b[0m 10ms/step - accuracy: 0.9499 - loss: 0.4149 - val_accuracy: 0.9118 - val_loss: 0.3783\n",
      "Epoch 22/50\n",
      "\u001b[1m17/17\u001b[0m \u001b[32m━━━━━━━━━━━━━━━━━━━━\u001b[0m\u001b[37m\u001b[0m \u001b[1m0s\u001b[0m 10ms/step - accuracy: 0.9472 - loss: 0.3811 - val_accuracy: 0.9118 - val_loss: 0.3410\n",
      "Epoch 23/50\n",
      "\u001b[1m17/17\u001b[0m \u001b[32m━━━━━━━━━━━━━━━━━━━━\u001b[0m\u001b[37m\u001b[0m \u001b[1m0s\u001b[0m 10ms/step - accuracy: 0.9178 - loss: 0.3565 - val_accuracy: 0.9118 - val_loss: 0.3023\n",
      "Epoch 24/50\n",
      "\u001b[1m17/17\u001b[0m \u001b[32m━━━━━━━━━━━━━━━━━━━━\u001b[0m\u001b[37m\u001b[0m \u001b[1m0s\u001b[0m 11ms/step - accuracy: 0.9367 - loss: 0.3279 - val_accuracy: 0.9118 - val_loss: 0.2627\n",
      "Epoch 25/50\n",
      "\u001b[1m17/17\u001b[0m \u001b[32m━━━━━━━━━━━━━━━━━━━━\u001b[0m\u001b[37m\u001b[0m \u001b[1m0s\u001b[0m 11ms/step - accuracy: 0.9285 - loss: 0.2520 - val_accuracy: 0.9118 - val_loss: 0.2389\n",
      "Epoch 26/50\n",
      "\u001b[1m17/17\u001b[0m \u001b[32m━━━━━━━━━━━━━━━━━━━━\u001b[0m\u001b[37m\u001b[0m \u001b[1m0s\u001b[0m 9ms/step - accuracy: 0.9246 - loss: 0.2691 - val_accuracy: 0.9118 - val_loss: 0.2112\n",
      "Epoch 27/50\n",
      "\u001b[1m17/17\u001b[0m \u001b[32m━━━━━━━━━━━━━━━━━━━━\u001b[0m\u001b[37m\u001b[0m \u001b[1m0s\u001b[0m 12ms/step - accuracy: 0.9434 - loss: 0.1894 - val_accuracy: 0.9412 - val_loss: 0.1939\n",
      "Epoch 28/50\n",
      "\u001b[1m17/17\u001b[0m \u001b[32m━━━━━━━━━━━━━━━━━━━━\u001b[0m\u001b[37m\u001b[0m \u001b[1m0s\u001b[0m 12ms/step - accuracy: 0.8911 - loss: 0.2404 - val_accuracy: 0.9412 - val_loss: 0.1838\n",
      "Epoch 29/50\n",
      "\u001b[1m17/17\u001b[0m \u001b[32m━━━━━━━━━━━━━━━━━━━━\u001b[0m\u001b[37m\u001b[0m \u001b[1m0s\u001b[0m 11ms/step - accuracy: 0.9337 - loss: 0.2081 - val_accuracy: 0.9412 - val_loss: 0.1679\n",
      "Epoch 30/50\n",
      "\u001b[1m17/17\u001b[0m \u001b[32m━━━━━━━━━━━━━━━━━━━━\u001b[0m\u001b[37m\u001b[0m \u001b[1m0s\u001b[0m 9ms/step - accuracy: 0.9240 - loss: 0.1940 - val_accuracy: 0.9412 - val_loss: 0.1634\n",
      "Epoch 31/50\n",
      "\u001b[1m17/17\u001b[0m \u001b[32m━━━━━━━━━━━━━━━━━━━━\u001b[0m\u001b[37m\u001b[0m \u001b[1m0s\u001b[0m 10ms/step - accuracy: 0.9559 - loss: 0.1538 - val_accuracy: 0.9412 - val_loss: 0.1578\n",
      "Epoch 32/50\n",
      "\u001b[1m17/17\u001b[0m \u001b[32m━━━━━━━━━━━━━━━━━━━━\u001b[0m\u001b[37m\u001b[0m \u001b[1m0s\u001b[0m 11ms/step - accuracy: 0.9200 - loss: 0.1916 - val_accuracy: 0.9412 - val_loss: 0.1519\n",
      "Epoch 33/50\n",
      "\u001b[1m17/17\u001b[0m \u001b[32m━━━━━━━━━━━━━━━━━━━━\u001b[0m\u001b[37m\u001b[0m \u001b[1m0s\u001b[0m 10ms/step - accuracy: 0.9195 - loss: 0.1759 - val_accuracy: 0.9412 - val_loss: 0.1509\n",
      "Epoch 34/50\n",
      "\u001b[1m17/17\u001b[0m \u001b[32m━━━━━━━━━━━━━━━━━━━━\u001b[0m\u001b[37m\u001b[0m \u001b[1m0s\u001b[0m 11ms/step - accuracy: 0.9072 - loss: 0.1922 - val_accuracy: 0.9412 - val_loss: 0.1459\n",
      "Epoch 35/50\n",
      "\u001b[1m17/17\u001b[0m \u001b[32m━━━━━━━━━━━━━━━━━━━━\u001b[0m\u001b[37m\u001b[0m \u001b[1m0s\u001b[0m 9ms/step - accuracy: 0.9471 - loss: 0.1733 - val_accuracy: 0.9412 - val_loss: 0.1405\n",
      "Epoch 36/50\n",
      "\u001b[1m17/17\u001b[0m \u001b[32m━━━━━━━━━━━━━━━━━━━━\u001b[0m\u001b[37m\u001b[0m \u001b[1m0s\u001b[0m 9ms/step - accuracy: 0.9595 - loss: 0.1544 - val_accuracy: 0.9412 - val_loss: 0.1382\n",
      "Epoch 37/50\n",
      "\u001b[1m17/17\u001b[0m \u001b[32m━━━━━━━━━━━━━━━━━━━━\u001b[0m\u001b[37m\u001b[0m \u001b[1m0s\u001b[0m 10ms/step - accuracy: 0.9220 - loss: 0.1694 - val_accuracy: 0.9412 - val_loss: 0.1467\n",
      "Epoch 38/50\n",
      "\u001b[1m17/17\u001b[0m \u001b[32m━━━━━━━━━━━━━━━━━━━━\u001b[0m\u001b[37m\u001b[0m \u001b[1m0s\u001b[0m 9ms/step - accuracy: 0.9259 - loss: 0.1670 - val_accuracy: 0.9412 - val_loss: 0.1368\n",
      "Epoch 39/50\n",
      "\u001b[1m17/17\u001b[0m \u001b[32m━━━━━━━━━━━━━━━━━━━━\u001b[0m\u001b[37m\u001b[0m \u001b[1m0s\u001b[0m 9ms/step - accuracy: 0.9044 - loss: 0.1661 - val_accuracy: 0.9412 - val_loss: 0.1381\n",
      "Epoch 40/50\n",
      "\u001b[1m17/17\u001b[0m \u001b[32m━━━━━━━━━━━━━━━━━━━━\u001b[0m\u001b[37m\u001b[0m \u001b[1m0s\u001b[0m 9ms/step - accuracy: 0.9618 - loss: 0.0989 - val_accuracy: 0.9412 - val_loss: 0.1297\n",
      "Epoch 41/50\n",
      "\u001b[1m17/17\u001b[0m \u001b[32m━━━━━━━━━━━━━━━━━━━━\u001b[0m\u001b[37m\u001b[0m \u001b[1m0s\u001b[0m 10ms/step - accuracy: 0.9296 - loss: 0.1169 - val_accuracy: 0.9412 - val_loss: 0.1306\n",
      "Epoch 42/50\n",
      "\u001b[1m17/17\u001b[0m \u001b[32m━━━━━━━━━━━━━━━━━━━━\u001b[0m\u001b[37m\u001b[0m \u001b[1m0s\u001b[0m 10ms/step - accuracy: 0.9180 - loss: 0.1695 - val_accuracy: 0.9412 - val_loss: 0.1241\n",
      "Epoch 43/50\n",
      "\u001b[1m17/17\u001b[0m \u001b[32m━━━━━━━━━━━━━━━━━━━━\u001b[0m\u001b[37m\u001b[0m \u001b[1m0s\u001b[0m 9ms/step - accuracy: 0.9301 - loss: 0.1288 - val_accuracy: 0.9412 - val_loss: 0.1276\n",
      "Epoch 44/50\n",
      "\u001b[1m17/17\u001b[0m \u001b[32m━━━━━━━━━━━━━━━━━━━━\u001b[0m\u001b[37m\u001b[0m \u001b[1m0s\u001b[0m 10ms/step - accuracy: 0.9557 - loss: 0.0988 - val_accuracy: 0.9412 - val_loss: 0.1227\n",
      "Epoch 45/50\n",
      "\u001b[1m17/17\u001b[0m \u001b[32m━━━━━━━━━━━━━━━━━━━━\u001b[0m\u001b[37m\u001b[0m \u001b[1m0s\u001b[0m 10ms/step - accuracy: 0.9782 - loss: 0.0900 - val_accuracy: 0.9412 - val_loss: 0.1273\n",
      "Epoch 46/50\n",
      "\u001b[1m17/17\u001b[0m \u001b[32m━━━━━━━━━━━━━━━━━━━━\u001b[0m\u001b[37m\u001b[0m \u001b[1m0s\u001b[0m 13ms/step - accuracy: 0.9660 - loss: 0.0916 - val_accuracy: 0.9412 - val_loss: 0.1272\n",
      "Epoch 47/50\n",
      "\u001b[1m17/17\u001b[0m \u001b[32m━━━━━━━━━━━━━━━━━━━━\u001b[0m\u001b[37m\u001b[0m \u001b[1m0s\u001b[0m 14ms/step - accuracy: 0.9355 - loss: 0.1387 - val_accuracy: 0.9412 - val_loss: 0.1179\n",
      "Epoch 48/50\n",
      "\u001b[1m17/17\u001b[0m \u001b[32m━━━━━━━━━━━━━━━━━━━━\u001b[0m\u001b[37m\u001b[0m \u001b[1m0s\u001b[0m 12ms/step - accuracy: 0.9692 - loss: 0.1211 - val_accuracy: 0.9412 - val_loss: 0.1179\n",
      "Epoch 49/50\n",
      "\u001b[1m17/17\u001b[0m \u001b[32m━━━━━━━━━━━━━━━━━━━━\u001b[0m\u001b[37m\u001b[0m \u001b[1m0s\u001b[0m 11ms/step - accuracy: 0.9540 - loss: 0.1095 - val_accuracy: 0.9412 - val_loss: 0.1237\n",
      "Epoch 50/50\n",
      "\u001b[1m17/17\u001b[0m \u001b[32m━━━━━━━━━━━━━━━━━━━━\u001b[0m\u001b[37m\u001b[0m \u001b[1m0s\u001b[0m 12ms/step - accuracy: 0.9443 - loss: 0.1298 - val_accuracy: 0.9412 - val_loss: 0.1236\n"
     ]
    },
    {
     "data": {
      "text/plain": [
       "<keras.src.callbacks.history.History at 0x141ced70680>"
      ]
     },
     "execution_count": 10,
     "metadata": {},
     "output_type": "execute_result"
    }
   ],
   "source": [
    "model = SeedsClassifier()\n",
    "\n",
    "model.compile(optimizer='adam',\n",
    "              loss='categorical_crossentropy',\n",
    "              metrics=['accuracy'])\n",
    "\n",
    "model.fit(X_train, y_train, epochs=50, batch_size=8, validation_split=0.2)"
   ]
  },
  {
   "cell_type": "code",
   "execution_count": 11,
   "id": "a0ab0f2b-d6d4-41f7-953c-5397a806b7d8",
   "metadata": {},
   "outputs": [
    {
     "name": "stdout",
     "output_type": "stream",
     "text": [
      "\u001b[1m2/2\u001b[0m \u001b[32m━━━━━━━━━━━━━━━━━━━━\u001b[0m\u001b[37m\u001b[0m \u001b[1m0s\u001b[0m 42ms/step - accuracy: 0.9211 - loss: 0.1865\n",
      "Test Accuracy: 0.9286\n"
     ]
    }
   ],
   "source": [
    "loss, acc = model.evaluate(X_test, y_test)\n",
    "print(f'Test Accuracy: {acc:.4f}')"
   ]
  },
  {
   "cell_type": "code",
   "execution_count": 12,
   "id": "4d73f984-339b-4eff-97fd-88637e4d9429",
   "metadata": {},
   "outputs": [
    {
     "name": "stdout",
     "output_type": "stream",
     "text": [
      "\u001b[1m2/2\u001b[0m \u001b[32m━━━━━━━━━━━━━━━━━━━━\u001b[0m\u001b[37m\u001b[0m \u001b[1m0s\u001b[0m 99ms/step\n",
      "Classification Report:\n",
      "              precision    recall  f1-score   support\n",
      "\n",
      "           0     0.8333    0.9091    0.8696        11\n",
      "           1     1.0000    1.0000    1.0000        14\n",
      "           2     0.9375    0.8824    0.9091        17\n",
      "\n",
      "    accuracy                         0.9286        42\n",
      "   macro avg     0.9236    0.9305    0.9262        42\n",
      "weighted avg     0.9311    0.9286    0.9290        42\n",
      "\n",
      "Confusion Matrix:\n",
      "[[10  0  1]\n",
      " [ 0 14  0]\n",
      " [ 2  0 15]]\n"
     ]
    }
   ],
   "source": [
    "from sklearn.metrics import classification_report, confusion_matrix\n",
    "import numpy as np\n",
    "\n",
    "# 예측: 확률 → 클래스 인덱스\n",
    "y_pred_probs = model.predict(X_test)\n",
    "y_pred_class = np.argmax(y_pred_probs, axis=1)\n",
    "\n",
    "# 실제: 원-핫 → 클래스 인덱스\n",
    "y_test_class = np.argmax(y_test, axis=1)\n",
    "\n",
    "# 평가 결과 출력\n",
    "print(\"Classification Report:\")\n",
    "print(classification_report(y_test_class, y_pred_class, digits=4))\n",
    "\n",
    "print(\"Confusion Matrix:\")\n",
    "print(confusion_matrix(y_test_class, y_pred_class))"
   ]
  },
  {
   "cell_type": "code",
   "execution_count": null,
   "id": "e8f1e0b6-5146-41b8-9417-8a194eef9fc0",
   "metadata": {},
   "outputs": [],
   "source": []
  }
 ],
 "metadata": {
  "kernelspec": {
   "display_name": "Python 3 (ipykernel)",
   "language": "python",
   "name": "python3"
  },
  "language_info": {
   "codemirror_mode": {
    "name": "ipython",
    "version": 3
   },
   "file_extension": ".py",
   "mimetype": "text/x-python",
   "name": "python",
   "nbconvert_exporter": "python",
   "pygments_lexer": "ipython3",
   "version": "3.12.7"
  }
 },
 "nbformat": 4,
 "nbformat_minor": 5
}
